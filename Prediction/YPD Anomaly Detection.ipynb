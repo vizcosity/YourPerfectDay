{
 "cells": [
  {
   "cell_type": "markdown",
   "metadata": {},
   "source": [
    "# Anomaly Detection\n",
    "\n",
    "- Create a 'vitality' feature, which is an average of all the vitality metrics.\n",
    "- Plot a graph of this over time\n",
    "- Determine the standard deviation & mean\n",
    "- Identify specific points which fall out of (mean +/- sigma), and return the 7 day period immediately preceeding this (separate function).\n",
    "    - One function which detects anomalies, and another function which takes the anomalies, and uses the date feature to extract 7 (or otherwise specified) periods of measured metric data immediately preceding the anomaly's date.\n",
    "    - Quantify changes in correlated metrics (% change in the last few days compared to a global average or baseline)"
   ]
  },
  {
   "cell_type": "markdown",
   "metadata": {},
   "source": [
    "### Creating the 'vitality' aggregated feature."
   ]
  },
  {
   "cell_type": "code",
   "execution_count": 399,
   "metadata": {},
   "outputs": [],
   "source": [
    "import pandas as pd\n",
    "import numpy as np\n",
    "import math\n",
    "\n",
    "data = pd.read_csv('sample_agg_health_and_checkin_data.csv')\n",
    "\n",
    "vitality_metrics = [\"generalFeeling\", \"mood\", \"focus\", \"energy\"]\n",
    "\n",
    "measured_metrics = [col for col in data.columns.drop('startOfDate') if col not in vitality_metrics]"
   ]
  },
  {
   "cell_type": "code",
   "execution_count": 400,
   "metadata": {},
   "outputs": [],
   "source": [
    "# Given a list of health data, engineers the 'vitality' feature, which is the average of all vitality metrics recorded \n",
    "# for a given day, excluding '0' or NaN values for each row considered when applying a column-wise mean.\n",
    "# The result is an array of shape (-1, 2), where each row contains the original data frame index, so that we can \n",
    "# re-merge at a later stage and extract the measured_metrics, as well as the actual vitality for the day.\n",
    "def summarise_vitality(data, vitality_metrics):\n",
    "    vitality = np.array([ np.mean(x[np.logical_not(np.isnan(x))]) for x in data[vitality_metrics].values ]).reshape(-1, 1)\n",
    "    indeces = np.array(data.index.to_series().values).reshape(-1, 1)\n",
    "    return np.append(indeces, vitality, axis=1)"
   ]
  },
  {
   "cell_type": "code",
   "execution_count": 401,
   "metadata": {},
   "outputs": [],
   "source": [
    "vitality = summarise_vitality(data, vitality_metrics)\n",
    "\n",
    "# Add vitality to the data.\n",
    "data[\"vitality\"] = vitality[:, 1]"
   ]
  },
  {
   "cell_type": "code",
   "execution_count": 439,
   "metadata": {},
   "outputs": [],
   "source": [
    "# Fill in all missing NaN weight values by linearly interpolating.\n",
    "data[\"weight\"] = data[\"weight\"].interpolate(limit_direction='both')"
   ]
  },
  {
   "cell_type": "markdown",
   "metadata": {},
   "source": [
    "### Detecting anomalies in a given metric, such as vitality."
   ]
  },
  {
   "cell_type": "code",
   "execution_count": 599,
   "metadata": {},
   "outputs": [],
   "source": [
    "def detect_anomaly_indeces(data, desired_metric, std_deviations=1):\n",
    "\n",
    "    sigma = data[desired_metric].std()\n",
    "    mu = data[desired_metric].mean()\n",
    "\n",
    "    upper_bound = mu + sigma*std_deviations\n",
    "    lower_bound = mu - sigma*std_deviations\n",
    "\n",
    "    anomaly_indeces = np.where((data[desired_metric] < lower_bound) | (data[desired_metric] > upper_bound))\n",
    "    \n",
    "    return anomaly_indeces[0]"
   ]
  },
  {
   "cell_type": "code",
   "execution_count": 441,
   "metadata": {},
   "outputs": [],
   "source": [
    "# For each anomaly detected, return the immediate 'X' day period preceding the occurrance of the anomaly.\n",
    "# We merge the vitality for each day with all the other metrics observed or measured on a particular day / row.\n",
    "def get_data_preceding_anomaly(data, anomaly_idx, preceding_num_days=7):\n",
    "    return data.iloc[(anomaly_idx-preceding_num_days if anomaly_idx > preceding_num_days else 0):anomaly_idx]\n",
    "\n",
    "preceding_data = get_data_preceding_anomaly(data, 63)"
   ]
  },
  {
   "cell_type": "code",
   "execution_count": 580,
   "metadata": {},
   "outputs": [],
   "source": [
    "import matplotlib.pyplot as plt\n",
    "\n",
    "# For each measured metric preceding an anomaly, find the most correlated features which contribute to the anomaly itself. \n",
    "# For this, we will need to append 'vitality' as an extra column on the pandas dataframe.\n",
    "def get_most_correlated_complement(corr_matrix, metric):\n",
    "    most_corr_metric, most_corr_val = (\"\", 0)\n",
    "    for colName, value in corr_matrix[metric].iteritems():\n",
    "        if (colName == metric or colName in vitality_metrics): \n",
    "            continue\n",
    "        if (abs(value) > abs(most_corr_val)):\n",
    "            most_corr_metric, most_corr_val = (colName, value)\n",
    "    return (most_corr_metric, most_corr_val)\n",
    "\n",
    "# Given a correlation matrix and a desired metric, returns a list of metrics and their correlation \n",
    "# scores, sorted in terms of the highest correlation.\n",
    "def fetch_most_correlated_to(data_df, desired_metric):\n",
    "#     print(data_df, desired_metric)\n",
    "#     corr_matrix = data.corr()\n",
    "    metrics_to_select = measured_metrics + [desired_metric]\n",
    "#     print(f'Metrics to select: {metrics_to_select}')\n",
    "#     print(f'Subset of measured {data_df[measured_metrics].columns}')\n",
    "#     print(f'Subset of selected {data_df[metrics_to_select].columns}')\n",
    "#     print(f'Correlation matrix for metrics_to_select {data_df[metrics_to_select].corr()}')\n",
    "    correlation_matrix = data_df[metrics_to_select].corr()[desired_metric]\n",
    "    correlation_matrix_df = pd.DataFrame(correlation_matrix)\n",
    "    \n",
    "#     print('Correlation Matrix', correlation_matrix_df)\n",
    "    \n",
    "    sorted_abs_corr_matrix_df = pd.DataFrame(correlation_matrix.abs()).sort_values(desired_metric, ascending=False)\n",
    "    \n",
    "#     print('Sorted (abs) corr matrix', sorted_abs_corr_matrix_df)\n",
    "    \n",
    "    # After sorting the correlation matrix using absolute values, we need to 'merge' back in the negative\n",
    "    # values wherever they also apply. We keep all key in the sorted_abs_corr_matrix so that we can \n",
    "    # preserve the index ordering which we computed during the sort method applied above.\n",
    "    sorted_corr_matrix_df = sorted_abs_corr_matrix_df.join(other=correlation_matrix_df, on=sorted_abs_corr_matrix_df.index, how='left', lsuffix=\"_abs\").drop(f'{desired_metric}_abs', axis=1)\n",
    "    \n",
    "#     print(\"Sorted corr matrix\", sorted_corr_matrix_df)\n",
    "        \n",
    "    # Return all corrleated metrics, excluding 'vitality' which is trivially '1' by default.\n",
    "    return sorted_corr_matrix_df\n",
    "\n",
    "# Given a data frame, determines the % change in each column when compared to the global mean, as well as the \n",
    "# start of the subset period, by fitting a line and determining the % change between the first and last point \n",
    "# of the fitted line.\n",
    "def determine_global_percentage_change_for_subset(all_data, subset_data):\n",
    "    return pd.DataFrame((subset_data.mean() / all_data.mean()) - 1)\n",
    "\n",
    "# Determines the local percentage change for a subset of the data, by fitting a line of best fit and determining \n",
    "# the relative change between the first and the last value.\n",
    "def determine_local_percentage_change_for_subset(subset_data):\n",
    "    \n",
    "    x_mean = preceding_data.index.values.mean()\n",
    "    x_centered = (preceding_data.index.values - x_mean)\n",
    "\n",
    "    y_mean = preceding_data.mean()\n",
    "    y_centered = preceding_data.drop(\"startOfDate\", axis=1) - y_mean\n",
    "\n",
    "    m = (x_centered.reshape(-1, 1) * y_centered).sum() / (x_centered ** 2).sum()\n",
    "\n",
    "    b = y_mean - m * x_mean\n",
    "\n",
    "    lobf_first_point = m * preceding_data.index.values[0] + b\n",
    "    lobf_last_point = m * preceding_data.index.values[-1] + b\n",
    "\n",
    "    local_percentage_change = lobf_last_point / lobf_first_point\n",
    "\n",
    "    return pd.DataFrame(local_percentage_change - 1)\n",
    "    \n",
    "# Obtains correlated metrics along with the % change in each correlated metric from the global average. \n",
    "# These are sorted by an 'importance' ranking which weights the correlation by the percentage change.\n",
    "# Returns all metrics with an importance greater than or equal to 0.4.\n",
    "def fetch_most_important_metrics_related_to(all_data, subset_data, desired_metric, importance_threshold=0.4):\n",
    "    most_corr_metrics = fetch_most_correlated_to(subset_data, desired_metric)\n",
    "    global_percentage_change_for_subset = determine_global_percentage_change_for_subset(all_data, subset_data)\n",
    "    local_percentage_change_for_subset = determine_local_percentage_change_for_subset(subset_data)\n",
    "#     print('Most correlated metrics', most_corr_metrics)\n",
    "#     print('Percentage change for subset', percentage_change_for_subset)\n",
    "    joined_df = most_corr_metrics\n",
    "    joined_df[\"local_percentage_change\"] = local_percentage_change_for_subset\n",
    "    joined_df[\"global_percentage_change\"] = global_percentage_change_for_subset\n",
    "    joined_df.columns = [\"correlation\", \"local_percentage_change\", \"global_percentage_change\"]\n",
    "    \n",
    "    # Drop the desired_metric column.\n",
    "    joined_df = joined_df.drop(desired_metric, axis=0)\n",
    "    \n",
    "    # Add an 'importance' column which weights each correlated metric by the percentage change which occured\n",
    "    # (both globally, and locally).\n",
    "    #\n",
    "    # We take into account the percentage change, as a correlation in and of itself isn't as useful out side \n",
    "    # of the context of a recent change. Indication of recent change would enable awareness and allow us to take action.\n",
    "    joined_df['importance'] = joined_df[\"correlation\"].abs() * joined_df[\"global_percentage_change\"].abs() * joined_df[\"local_percentage_change\"].abs()\n",
    "    joined_df['importance'] = joined_df['importance'] / joined_df['importance'].max()\n",
    "    \n",
    "    return joined_df.sort_values(by='importance', ascending=False)\n",
    "\n",
    "# # Fetch the most correlated metrics, and display a comparison for each.\n",
    "def fetch_most_correlated_pairs(data):\n",
    "    corr = data.corr()\n",
    "    correlated_metrics = []\n",
    "    for col in corr.columns:\n",
    "        pair, corrVal = get_most_correlated_complement(corr, col)\n",
    "        if ((col, pair, corrVal) not in correlated_metrics or (pair, col, corrVal) not in correlated_metrics):\n",
    "            correlated_metrics.append((col, pair, corrVal))\n",
    "    return correlated_metrics\n",
    "\n",
    "# Compare metrics which are most correlated to the desired metric visually, displaying the values for both \n",
    "# metrics across time, as well as labelling the correlation between the two metrics.\n",
    "def compare_most_correlated_to_visually(data, desired_metric, max_num_correlated_metrics=3):\n",
    "    \n",
    "    most_correlated_metrics = fetch_most_correlated_to(data, desired_metric)\n",
    "    most_correlated_metrics = list(zip(most_correlated_metrics.index, most_correlated_metrics.values.reshape(-1)))[1:]\n",
    "    if max_num_correlated_metrics > len(most_correlated_metrics):\n",
    "        max_num_correlated_metrics = len(most_correlated_metrics)\n",
    "        \n",
    "    # Fetch the `max_num_correlated_metrics` top most correlated metrics, skipping the first which is\n",
    "    # trivially the desired_metric itself.\n",
    "    most_correlated_metrics = most_correlated_metrics[0:max_num_correlated_metrics]\n",
    "    \n",
    "    plot_idx = 0\n",
    "    for correlated_metric, corr_score in most_correlated_metrics:\n",
    "        plt.figure(plot_idx)\n",
    "        compare_metrics(data, desired_metric, correlated_metric, corr_score=corr_score)\n",
    "        plot_idx += 1\n",
    "        \n",
    "def compare_most_correlated_visually(data):\n",
    "    correlated_metrics = fetch_most_correlated_pairs(data)\n",
    "    plotIndex = 0\n",
    "    for (metricOne, metricTwo, _) in correlated_metrics:\n",
    "        plt.figure(plotIndex)\n",
    "        plotIndex += 1\n",
    "        compare_metrics(data, metricOne, metricTwo)\n",
    "        \n",
    "# Plotting restingHeartRate against the 4 vitality indicators.\n",
    "def compare_metrics(df, metricOne, metricTwo, corr_score=None):\n",
    "    feelingVHR = df[[metricOne, metricTwo]].dropna()\n",
    "    metricOneMax = feelingVHR[metricOne].max()\n",
    "    metricTwoMax = feelingVHR[metricTwo].max()\n",
    "    plt.plot(feelingVHR[metricOne] / metricOneMax)\n",
    "    plt.plot(feelingVHR[metricTwo] / metricTwoMax)\n",
    "    plt.xlabel('Day')\n",
    "    plt.ylabel('Normalised value')\n",
    "    if corr_score is not None:\n",
    "        plt.text((feelingVHR.index.min() + feelingVHR.index.max()) / 2, 1, f'Correlation: {corr_score}', horizontalalignment='center', verticalalignment='center')\n",
    "    plt.legend()"
   ]
  },
  {
   "cell_type": "code",
   "execution_count": 585,
   "metadata": {
    "scrolled": false
   },
   "outputs": [
    {
     "data": {
      "text/plain": [
       "array(['activeEnergyBurned', 'basalEnergyBurned', 'dietaryProtein'],\n",
       "      dtype=object)"
      ]
     },
     "execution_count": 585,
     "metadata": {},
     "output_type": "execute_result"
    }
   ],
   "source": [
    "important_metrics = fetch_most_important_metrics_related_to(data, get_data_preceding_anomaly(data, 14), \"vitality\")\n",
    "important_metrics.loc[important_metrics[\"importance\"] > 0.4].index.values"
   ]
  },
  {
   "cell_type": "code",
   "execution_count": 512,
   "metadata": {},
   "outputs": [
    {
     "data": {
      "text/plain": [
       "1.2371207559121735"
      ]
     },
     "execution_count": 512,
     "metadata": {},
     "output_type": "execute_result"
    },
    {
     "data": {
      "image/png": "[encoded data removed]",
      "text/plain": [
       "<matplotlib.figure.Figure at 0x1188e85c0>"
      ]
     },
     "metadata": {
      "needs_background": "light"
     },
     "output_type": "display_data"
    }
   ],
   "source": [
    "# TEMP: determining the lobf using sample preceding data.    \n",
    "m = ((preceding_data.index.values - preceding_data.index.values.mean()) * (preceding_data[\"hrv\"] - preceding_data[\"hrv\"].mean())).sum() / \\\n",
    "((preceding_data.index.values - preceding_data.index.values.mean()) ** 2).sum()\n",
    "\n",
    "b = preceding_data[\"hrv\"].mean() - m*preceding_data.index.values.mean()\n",
    "\n",
    "m * preceding_data.index.values[0] + b\n",
    "\n",
    "plt.plot(preceding_data[\"hrv\"])\n",
    "plt.plot(preceding_data.index.values, preceding_data.index.values *m+b)\n",
    "\n",
    "first = preceding_data.index.values[0]*m + b\n",
    "last = preceding_data.index.values[-1]*m + b\n",
    "\n",
    "(last / first)"
   ]
  },
  {
   "cell_type": "markdown",
   "metadata": {},
   "source": [
    "### Extracting most relevant preceding data using the most important metrics.\n",
    "\n",
    "Now that the most 'important' metrics can be computed for any length subset of data preceding some anomaly, we can extract a time series for the most important features contributing to the anomaly.\n",
    "\n",
    "We can do this by extracting all metrics obtained by the `fetch_important_metrics_related_to` method which exceed an importance of `0.4`. This is an arbitrary parameter which appears to yield good results empirically.\n",
    "\n",
    "After extracting all metrics, we can then construct a dictionray of the following format for some given anomaly:\n",
    "\n",
    "```python\n",
    "{\n",
    "    \"anomaly_index\": Number,\n",
    "    \"anomaly_value\": Number,\n",
    "    \"preceding_data\": [DataFrame],\n",
    "    \"most_important_metrics\": [DataFrame], # This would contain the % change, correlation, and importance.\n",
    "    \"most_important_preceding_data\": [DataFrame] # This would be the 'preceding_data' frame filtered out by the most important metrics.\n",
    "}\n",
    "```"
   ]
  },
  {
   "cell_type": "code",
   "execution_count": 604,
   "metadata": {},
   "outputs": [],
   "source": [
    "# Given the data, fetch the anomalies and the preceding data as an array of dictionaries\n",
    "# {\n",
    "#     anomaly_idx,\n",
    "#     anomaly_value,\n",
    "#     preceding_data,\n",
    "#     most_important_metrics,\n",
    "#     most_important_preceding_data\n",
    "# }\n",
    "def fetch_anomalies_and_preceding_data(data, desired_metric=\"vitality\", preceding_num_days=7, std_deviations=1, importance_threshold=0.4):\n",
    "    \n",
    "    anomalies = []\n",
    "    \n",
    "    anomaly_idxs = detect_anomaly_indeces(data=data, desired_metric=desired_metric, std_deviations=std_deviations)\n",
    "    \n",
    "    anomaly_values = [data[desired_metric].iloc[idx] for idx in anomaly_idxs]\n",
    "    \n",
    "    for anomaly_index, anomaly_value in zip(anomaly_idxs, anomaly_values):\n",
    "        preceding_data = get_data_preceding_anomaly(data, anomaly_index, preceding_num_days=preceding_num_days)\n",
    "        important_metrics = fetch_most_important_metrics_related_to(data, preceding_data, desired_metric)\n",
    "        most_important_metrics = important_metrics.loc[important_metrics[\"importance\"] >= 0.4]\n",
    "        most_important_preceding_data = preceding_data[most_important_metrics.index.values]\n",
    "\n",
    "        anomalies.append({\n",
    "            \"anomaly_index\": anomaly_index,\n",
    "            \"anomaly_value\": anomaly_value,\n",
    "            \"preceding_data\": preceding_data,\n",
    "            \"most_important_metrics\": most_important_metrics,\n",
    "            \"most_important_preceding_data\": most_important_preceding_data\n",
    "        })\n",
    "    \n",
    "    return anomalies"
   ]
  },
  {
   "cell_type": "code",
   "execution_count": 606,
   "metadata": {},
   "outputs": [],
   "source": [
    "anomalies = fetch_anomalies_and_preceding_data(data)"
   ]
  },
  {
   "cell_type": "code",
   "execution_count": 624,
   "metadata": {},
   "outputs": [
    {
     "data": {
      "text/html": [
       "<div>\n",
       "<style scoped>\n",
       "    .dataframe tbody tr th:only-of-type {\n",
       "        vertical-align: middle;\n",
       "    }\n",
       "\n",
       "    .dataframe tbody tr th {\n",
       "        vertical-align: top;\n",
       "    }\n",
       "\n",
       "    .dataframe thead th {\n",
       "        text-align: right;\n",
       "    }\n",
       "</style>\n",
       "<table border=\"1\" class=\"dataframe\">\n",
       "  <thead>\n",
       "    <tr style=\"text-align: right;\">\n",
       "      <th></th>\n",
       "      <th>correlation</th>\n",
       "      <th>local_percentage_change</th>\n",
       "      <th>global_percentage_change</th>\n",
       "      <th>importance</th>\n",
       "    </tr>\n",
       "  </thead>\n",
       "  <tbody>\n",
       "    <tr>\n",
       "      <th>dietaryCarbohydrates</th>\n",
       "      <td>0.563839</td>\n",
       "      <td>-0.400333</td>\n",
       "      <td>0.141676</td>\n",
       "      <td>1.000000</td>\n",
       "    </tr>\n",
       "    <tr>\n",
       "      <th>lowHeartRateEvents</th>\n",
       "      <td>-0.253837</td>\n",
       "      <td>-0.222222</td>\n",
       "      <td>0.477912</td>\n",
       "      <td>0.842976</td>\n",
       "    </tr>\n",
       "    <tr>\n",
       "      <th>sleepHours</th>\n",
       "      <td>-0.677604</td>\n",
       "      <td>-0.133181</td>\n",
       "      <td>-0.164439</td>\n",
       "      <td>0.464034</td>\n",
       "    </tr>\n",
       "    <tr>\n",
       "      <th>caloricIntake</th>\n",
       "      <td>0.652215</td>\n",
       "      <td>-0.274924</td>\n",
       "      <td>0.081291</td>\n",
       "      <td>0.455799</td>\n",
       "    </tr>\n",
       "  </tbody>\n",
       "</table>\n",
       "</div>"
      ],
      "text/plain": [
       "                      correlation  local_percentage_change  \\\n",
       "dietaryCarbohydrates     0.563839                -0.400333   \n",
       "lowHeartRateEvents      -0.253837                -0.222222   \n",
       "sleepHours              -0.677604                -0.133181   \n",
       "caloricIntake            0.652215                -0.274924   \n",
       "\n",
       "                      global_percentage_change  importance  \n",
       "dietaryCarbohydrates                  0.141676    1.000000  \n",
       "lowHeartRateEvents                    0.477912    0.842976  \n",
       "sleepHours                           -0.164439    0.464034  \n",
       "caloricIntake                         0.081291    0.455799  "
      ]
     },
     "execution_count": 624,
     "metadata": {},
     "output_type": "execute_result"
    }
   ],
   "source": [
    "anomalies[15][\"most_important_metrics\"]"
   ]
  },
  {
   "cell_type": "code",
   "execution_count": null,
   "metadata": {},
   "outputs": [],
   "source": []
  }
 ],
 "metadata": {
  "kernelspec": {
   "display_name": "Python 3",
   "language": "python",
   "name": "python3"
  },
  "language_info": {
   "codemirror_mode": {
    "name": "ipython",
    "version": 3
   },
   "file_extension": ".py",
   "mimetype": "text/x-python",
   "name": "python",
   "nbconvert_exporter": "python",
   "pygments_lexer": "ipython3",
   "version": "3.6.3"
  }
 },
 "nbformat": 4,
 "nbformat_minor": 4
}
